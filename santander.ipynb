{
 "cells": [
  {
   "cell_type": "markdown",
   "id": "41c93138-b674-4e7d-ace1-e4ed83e126a9",
   "metadata": {},
   "source": [
    "# Santander Customer Transaction Prediction\n",
    "이번 문제에서는 고객이 거래를 체결할 확률을 구하는 문제이다. 하지만 모든 데이터가 익명화 되어 있기 때문에 오로지 수치만을 가지고 예측해야 한다.\n",
    "\n",
    "200000 x 202 이기 때문에 대용량의 데이터라고 볼 수 있다."
   ]
  },
  {
   "cell_type": "code",
   "execution_count": 37,
   "id": "40e589a3-0088-4161-8ab9-fd9382801d6e",
   "metadata": {},
   "outputs": [],
   "source": [
    "import numpy as np\n",
    "import pandas as pd\n",
    "import matplotlib.pyplot as plt\n",
    "from sklearn.feature_selection import SelectKBest\n",
    "from sklearn.tree import DecisionTreeClassifier\n",
    "from sklearn.feature_selection import RFE\n",
    "from sklearn.decomposition import PCA\n",
    "import seaborn as sn\n",
    "import eli5\n",
    "from eli5.sklearn import PermutationImportance\n",
    "import pickle\n",
    "from imblearn.under_sampling import CondensedNearestNeighbour"
   ]
  },
  {
   "cell_type": "code",
   "execution_count": 2,
   "id": "a24fd221-2669-405c-a4b5-8fe5e2201e7c",
   "metadata": {},
   "outputs": [
    {
     "data": {
      "text/plain": [
       "((200000, 202), (200000, 201))"
      ]
     },
     "execution_count": 2,
     "metadata": {},
     "output_type": "execute_result"
    }
   ],
   "source": [
    "tr = pd.read_csv(\"train.csv\")\n",
    "tst = pd.read_csv(\"test.csv\")\n",
    "\n",
    "tr.shape, tst.shape"
   ]
  },
  {
   "cell_type": "code",
   "execution_count": 3,
   "id": "02b410ce-283b-4e8e-a882-1c6068afa174",
   "metadata": {},
   "outputs": [
    {
     "data": {
      "text/html": [
       "<div>\n",
       "<style scoped>\n",
       "    .dataframe tbody tr th:only-of-type {\n",
       "        vertical-align: middle;\n",
       "    }\n",
       "\n",
       "    .dataframe tbody tr th {\n",
       "        vertical-align: top;\n",
       "    }\n",
       "\n",
       "    .dataframe thead th {\n",
       "        text-align: right;\n",
       "    }\n",
       "</style>\n",
       "<table border=\"1\" class=\"dataframe\">\n",
       "  <thead>\n",
       "    <tr style=\"text-align: right;\">\n",
       "      <th></th>\n",
       "      <th>ID_code</th>\n",
       "      <th>target</th>\n",
       "      <th>var_0</th>\n",
       "      <th>var_1</th>\n",
       "      <th>var_2</th>\n",
       "      <th>var_3</th>\n",
       "      <th>var_4</th>\n",
       "      <th>var_5</th>\n",
       "      <th>var_6</th>\n",
       "      <th>var_7</th>\n",
       "      <th>...</th>\n",
       "      <th>var_190</th>\n",
       "      <th>var_191</th>\n",
       "      <th>var_192</th>\n",
       "      <th>var_193</th>\n",
       "      <th>var_194</th>\n",
       "      <th>var_195</th>\n",
       "      <th>var_196</th>\n",
       "      <th>var_197</th>\n",
       "      <th>var_198</th>\n",
       "      <th>var_199</th>\n",
       "    </tr>\n",
       "  </thead>\n",
       "  <tbody>\n",
       "    <tr>\n",
       "      <th>0</th>\n",
       "      <td>train_0</td>\n",
       "      <td>0</td>\n",
       "      <td>8.9255</td>\n",
       "      <td>-6.7863</td>\n",
       "      <td>11.9081</td>\n",
       "      <td>5.0930</td>\n",
       "      <td>11.4607</td>\n",
       "      <td>-9.2834</td>\n",
       "      <td>5.1187</td>\n",
       "      <td>18.6266</td>\n",
       "      <td>...</td>\n",
       "      <td>4.4354</td>\n",
       "      <td>3.9642</td>\n",
       "      <td>3.1364</td>\n",
       "      <td>1.6910</td>\n",
       "      <td>18.5227</td>\n",
       "      <td>-2.3978</td>\n",
       "      <td>7.8784</td>\n",
       "      <td>8.5635</td>\n",
       "      <td>12.7803</td>\n",
       "      <td>-1.0914</td>\n",
       "    </tr>\n",
       "    <tr>\n",
       "      <th>1</th>\n",
       "      <td>train_1</td>\n",
       "      <td>0</td>\n",
       "      <td>11.5006</td>\n",
       "      <td>-4.1473</td>\n",
       "      <td>13.8588</td>\n",
       "      <td>5.3890</td>\n",
       "      <td>12.3622</td>\n",
       "      <td>7.0433</td>\n",
       "      <td>5.6208</td>\n",
       "      <td>16.5338</td>\n",
       "      <td>...</td>\n",
       "      <td>7.6421</td>\n",
       "      <td>7.7214</td>\n",
       "      <td>2.5837</td>\n",
       "      <td>10.9516</td>\n",
       "      <td>15.4305</td>\n",
       "      <td>2.0339</td>\n",
       "      <td>8.1267</td>\n",
       "      <td>8.7889</td>\n",
       "      <td>18.3560</td>\n",
       "      <td>1.9518</td>\n",
       "    </tr>\n",
       "    <tr>\n",
       "      <th>2</th>\n",
       "      <td>train_2</td>\n",
       "      <td>0</td>\n",
       "      <td>8.6093</td>\n",
       "      <td>-2.7457</td>\n",
       "      <td>12.0805</td>\n",
       "      <td>7.8928</td>\n",
       "      <td>10.5825</td>\n",
       "      <td>-9.0837</td>\n",
       "      <td>6.9427</td>\n",
       "      <td>14.6155</td>\n",
       "      <td>...</td>\n",
       "      <td>2.9057</td>\n",
       "      <td>9.7905</td>\n",
       "      <td>1.6704</td>\n",
       "      <td>1.6858</td>\n",
       "      <td>21.6042</td>\n",
       "      <td>3.1417</td>\n",
       "      <td>-6.5213</td>\n",
       "      <td>8.2675</td>\n",
       "      <td>14.7222</td>\n",
       "      <td>0.3965</td>\n",
       "    </tr>\n",
       "    <tr>\n",
       "      <th>3</th>\n",
       "      <td>train_3</td>\n",
       "      <td>0</td>\n",
       "      <td>11.0604</td>\n",
       "      <td>-2.1518</td>\n",
       "      <td>8.9522</td>\n",
       "      <td>7.1957</td>\n",
       "      <td>12.5846</td>\n",
       "      <td>-1.8361</td>\n",
       "      <td>5.8428</td>\n",
       "      <td>14.9250</td>\n",
       "      <td>...</td>\n",
       "      <td>4.4666</td>\n",
       "      <td>4.7433</td>\n",
       "      <td>0.7178</td>\n",
       "      <td>1.4214</td>\n",
       "      <td>23.0347</td>\n",
       "      <td>-1.2706</td>\n",
       "      <td>-2.9275</td>\n",
       "      <td>10.2922</td>\n",
       "      <td>17.9697</td>\n",
       "      <td>-8.9996</td>\n",
       "    </tr>\n",
       "    <tr>\n",
       "      <th>4</th>\n",
       "      <td>train_4</td>\n",
       "      <td>0</td>\n",
       "      <td>9.8369</td>\n",
       "      <td>-1.4834</td>\n",
       "      <td>12.8746</td>\n",
       "      <td>6.6375</td>\n",
       "      <td>12.2772</td>\n",
       "      <td>2.4486</td>\n",
       "      <td>5.9405</td>\n",
       "      <td>19.2514</td>\n",
       "      <td>...</td>\n",
       "      <td>-1.4905</td>\n",
       "      <td>9.5214</td>\n",
       "      <td>-0.1508</td>\n",
       "      <td>9.1942</td>\n",
       "      <td>13.2876</td>\n",
       "      <td>-1.5121</td>\n",
       "      <td>3.9267</td>\n",
       "      <td>9.5031</td>\n",
       "      <td>17.9974</td>\n",
       "      <td>-8.8104</td>\n",
       "    </tr>\n",
       "  </tbody>\n",
       "</table>\n",
       "<p>5 rows × 202 columns</p>\n",
       "</div>"
      ],
      "text/plain": [
       "   ID_code  target    var_0   var_1    var_2   var_3    var_4   var_5   var_6  \\\n",
       "0  train_0       0   8.9255 -6.7863  11.9081  5.0930  11.4607 -9.2834  5.1187   \n",
       "1  train_1       0  11.5006 -4.1473  13.8588  5.3890  12.3622  7.0433  5.6208   \n",
       "2  train_2       0   8.6093 -2.7457  12.0805  7.8928  10.5825 -9.0837  6.9427   \n",
       "3  train_3       0  11.0604 -2.1518   8.9522  7.1957  12.5846 -1.8361  5.8428   \n",
       "4  train_4       0   9.8369 -1.4834  12.8746  6.6375  12.2772  2.4486  5.9405   \n",
       "\n",
       "     var_7  ...  var_190  var_191  var_192  var_193  var_194  var_195  \\\n",
       "0  18.6266  ...   4.4354   3.9642   3.1364   1.6910  18.5227  -2.3978   \n",
       "1  16.5338  ...   7.6421   7.7214   2.5837  10.9516  15.4305   2.0339   \n",
       "2  14.6155  ...   2.9057   9.7905   1.6704   1.6858  21.6042   3.1417   \n",
       "3  14.9250  ...   4.4666   4.7433   0.7178   1.4214  23.0347  -1.2706   \n",
       "4  19.2514  ...  -1.4905   9.5214  -0.1508   9.1942  13.2876  -1.5121   \n",
       "\n",
       "   var_196  var_197  var_198  var_199  \n",
       "0   7.8784   8.5635  12.7803  -1.0914  \n",
       "1   8.1267   8.7889  18.3560   1.9518  \n",
       "2  -6.5213   8.2675  14.7222   0.3965  \n",
       "3  -2.9275  10.2922  17.9697  -8.9996  \n",
       "4   3.9267   9.5031  17.9974  -8.8104  \n",
       "\n",
       "[5 rows x 202 columns]"
      ]
     },
     "execution_count": 3,
     "metadata": {},
     "output_type": "execute_result"
    }
   ],
   "source": [
    "tr.head()"
   ]
  },
  {
   "cell_type": "code",
   "execution_count": 4,
   "id": "509ea1f4-d959-4d85-ae4b-ca42bd0c899d",
   "metadata": {},
   "outputs": [
    {
     "data": {
      "text/plain": [
       "float64    200\n",
       "object       1\n",
       "int64        1\n",
       "dtype: int64"
      ]
     },
     "execution_count": 4,
     "metadata": {},
     "output_type": "execute_result"
    }
   ],
   "source": [
    "tr.dtypes.value_counts()"
   ]
  },
  {
   "cell_type": "markdown",
   "id": "6765e50f-67c8-48ee-b099-97679c1a044b",
   "metadata": {},
   "source": [
    "## 이상치 제거\n",
    "이상치 제거에는 여러 목적이 있지만 대표적으로 데이터를 표준화 하기 위해 제거 하는 경우가 있다. IQR 방식을 이용한다. 여기서는 이상치 칼럼이 2개 이상인 데이터를 삭제한다."
   ]
  },
  {
   "cell_type": "code",
   "execution_count": 5,
   "id": "f05300f4-ffff-476b-af8d-51ba456acadf",
   "metadata": {},
   "outputs": [],
   "source": [
    "def find_rows_with_multiple_outliers(data, q1, q3):\n",
    "    iqr = q3-q1\n",
    "    outliers = (data < (q1 - iqr*1.5)) | (data > (q3 + iqr*1.5))\n",
    "    return outliers.sum(axis=1) > 1"
   ]
  },
  {
   "cell_type": "code",
   "execution_count": 6,
   "id": "58dfc481-996c-4507-8ab4-56c88fe75449",
   "metadata": {},
   "outputs": [
    {
     "data": {
      "text/plain": [
       "1556"
      ]
     },
     "execution_count": 6,
     "metadata": {},
     "output_type": "execute_result"
    }
   ],
   "source": [
    "data = tr.drop([\"target\", \"ID_code\"], axis=1)\n",
    "q1, q3 = data.quantile(0.25), data.quantile(0.75)\n",
    "mask = find_rows_with_multiple_outliers(data, q1, q3)\n",
    "\n",
    "mask.sum()"
   ]
  },
  {
   "cell_type": "code",
   "execution_count": 7,
   "id": "46576bc1-763d-4700-b162-59b5b0c67b79",
   "metadata": {
    "tags": []
   },
   "outputs": [
    {
     "data": {
      "text/plain": [
       "(198444, 202)"
      ]
     },
     "execution_count": 7,
     "metadata": {},
     "output_type": "execute_result"
    }
   ],
   "source": [
    "no_outliers = tr.loc[~mask]\n",
    "\n",
    "no_outliers.shape"
   ]
  },
  {
   "cell_type": "markdown",
   "id": "9b8cef86-2599-42e2-9581-18725189b3e7",
   "metadata": {
    "tags": []
   },
   "source": [
    "이후 표준화를 진행한다. 표준화는 여러 방법이 있는데 대표적으로 MinMaxScaler 와 StandardScaler 가 있다. MinMaxScaler 는 각 피쳐의 최소, 최대값을 기준으로 스케일링을 하는것이고 StandardScaler 는 평균과 표준편차를 기준으로 스케일링을 하는 것이다. 이 외에도 이상치 제거를 동시에 하는 RobustScaler 가 있다.\n",
    "\n",
    "본문에선 MinMaxScaler 를 직접 구현해본다."
   ]
  },
  {
   "cell_type": "code",
   "execution_count": 8,
   "id": "8879e9c4-d2ef-4ed1-9a5b-0736bde37819",
   "metadata": {},
   "outputs": [],
   "source": [
    "def MinMaxScaler(data, mn, mx):\n",
    "    return (data - mn) / (mx - mn)"
   ]
  },
  {
   "cell_type": "code",
   "execution_count": 9,
   "id": "7f47a401-6b88-48c8-a9f2-71403b099119",
   "metadata": {},
   "outputs": [
    {
     "data": {
      "text/html": [
       "<div>\n",
       "<style scoped>\n",
       "    .dataframe tbody tr th:only-of-type {\n",
       "        vertical-align: middle;\n",
       "    }\n",
       "\n",
       "    .dataframe tbody tr th {\n",
       "        vertical-align: top;\n",
       "    }\n",
       "\n",
       "    .dataframe thead th {\n",
       "        text-align: right;\n",
       "    }\n",
       "</style>\n",
       "<table border=\"1\" class=\"dataframe\">\n",
       "  <thead>\n",
       "    <tr style=\"text-align: right;\">\n",
       "      <th></th>\n",
       "      <th>var_0</th>\n",
       "      <th>var_1</th>\n",
       "      <th>var_2</th>\n",
       "      <th>var_3</th>\n",
       "      <th>var_4</th>\n",
       "      <th>var_5</th>\n",
       "      <th>var_6</th>\n",
       "      <th>var_7</th>\n",
       "      <th>var_8</th>\n",
       "      <th>var_9</th>\n",
       "      <th>...</th>\n",
       "      <th>var_192</th>\n",
       "      <th>var_193</th>\n",
       "      <th>var_194</th>\n",
       "      <th>var_195</th>\n",
       "      <th>var_196</th>\n",
       "      <th>var_197</th>\n",
       "      <th>var_198</th>\n",
       "      <th>var_199</th>\n",
       "      <th>ID_code</th>\n",
       "      <th>target</th>\n",
       "    </tr>\n",
       "  </thead>\n",
       "  <tbody>\n",
       "    <tr>\n",
       "      <th>0</th>\n",
       "      <td>0.427853</td>\n",
       "      <td>0.324824</td>\n",
       "      <td>0.568059</td>\n",
       "      <td>0.388041</td>\n",
       "      <td>0.550670</td>\n",
       "      <td>0.467321</td>\n",
       "      <td>0.441783</td>\n",
       "      <td>0.594255</td>\n",
       "      <td>0.270395</td>\n",
       "      <td>0.247420</td>\n",
       "      <td>...</td>\n",
       "      <td>0.560037</td>\n",
       "      <td>0.448173</td>\n",
       "      <td>0.510975</td>\n",
       "      <td>0.300318</td>\n",
       "      <td>0.678981</td>\n",
       "      <td>0.430958</td>\n",
       "      <td>0.327658</td>\n",
       "      <td>0.560645</td>\n",
       "      <td>train_0</td>\n",
       "      <td>0</td>\n",
       "    </tr>\n",
       "    <tr>\n",
       "      <th>1</th>\n",
       "      <td>0.557212</td>\n",
       "      <td>0.428639</td>\n",
       "      <td>0.681235</td>\n",
       "      <td>0.410417</td>\n",
       "      <td>0.628408</td>\n",
       "      <td>0.795072</td>\n",
       "      <td>0.526350</td>\n",
       "      <td>0.500584</td>\n",
       "      <td>0.660911</td>\n",
       "      <td>0.573056</td>\n",
       "      <td>...</td>\n",
       "      <td>0.513861</td>\n",
       "      <td>0.756190</td>\n",
       "      <td>0.350211</td>\n",
       "      <td>0.765154</td>\n",
       "      <td>0.686614</td>\n",
       "      <td>0.468277</td>\n",
       "      <td>0.609546</td>\n",
       "      <td>0.605827</td>\n",
       "      <td>train_1</td>\n",
       "      <td>0</td>\n",
       "    </tr>\n",
       "    <tr>\n",
       "      <th>2</th>\n",
       "      <td>0.411969</td>\n",
       "      <td>0.483777</td>\n",
       "      <td>0.578061</td>\n",
       "      <td>0.599690</td>\n",
       "      <td>0.474941</td>\n",
       "      <td>0.471329</td>\n",
       "      <td>0.748994</td>\n",
       "      <td>0.414724</td>\n",
       "      <td>0.270429</td>\n",
       "      <td>0.276041</td>\n",
       "      <td>...</td>\n",
       "      <td>0.437556</td>\n",
       "      <td>0.448000</td>\n",
       "      <td>0.671183</td>\n",
       "      <td>0.881350</td>\n",
       "      <td>0.236337</td>\n",
       "      <td>0.381950</td>\n",
       "      <td>0.425833</td>\n",
       "      <td>0.582736</td>\n",
       "      <td>train_2</td>\n",
       "      <td>0</td>\n",
       "    </tr>\n",
       "    <tr>\n",
       "      <th>3</th>\n",
       "      <td>0.535099</td>\n",
       "      <td>0.507140</td>\n",
       "      <td>0.396562</td>\n",
       "      <td>0.546993</td>\n",
       "      <td>0.647586</td>\n",
       "      <td>0.616822</td>\n",
       "      <td>0.563741</td>\n",
       "      <td>0.428577</td>\n",
       "      <td>0.224846</td>\n",
       "      <td>0.595326</td>\n",
       "      <td>...</td>\n",
       "      <td>0.357969</td>\n",
       "      <td>0.439205</td>\n",
       "      <td>0.745555</td>\n",
       "      <td>0.418549</td>\n",
       "      <td>0.346810</td>\n",
       "      <td>0.717176</td>\n",
       "      <td>0.590016</td>\n",
       "      <td>0.443232</td>\n",
       "      <td>train_3</td>\n",
       "      <td>0</td>\n",
       "    </tr>\n",
       "    <tr>\n",
       "      <th>4</th>\n",
       "      <td>0.473637</td>\n",
       "      <td>0.533434</td>\n",
       "      <td>0.624133</td>\n",
       "      <td>0.504796</td>\n",
       "      <td>0.621079</td>\n",
       "      <td>0.702836</td>\n",
       "      <td>0.580196</td>\n",
       "      <td>0.622220</td>\n",
       "      <td>0.811883</td>\n",
       "      <td>0.516413</td>\n",
       "      <td>...</td>\n",
       "      <td>0.285399</td>\n",
       "      <td>0.697737</td>\n",
       "      <td>0.238801</td>\n",
       "      <td>0.393218</td>\n",
       "      <td>0.557507</td>\n",
       "      <td>0.586526</td>\n",
       "      <td>0.591416</td>\n",
       "      <td>0.446041</td>\n",
       "      <td>train_4</td>\n",
       "      <td>0</td>\n",
       "    </tr>\n",
       "  </tbody>\n",
       "</table>\n",
       "<p>5 rows × 202 columns</p>\n",
       "</div>"
      ],
      "text/plain": [
       "      var_0     var_1     var_2     var_3     var_4     var_5     var_6  \\\n",
       "0  0.427853  0.324824  0.568059  0.388041  0.550670  0.467321  0.441783   \n",
       "1  0.557212  0.428639  0.681235  0.410417  0.628408  0.795072  0.526350   \n",
       "2  0.411969  0.483777  0.578061  0.599690  0.474941  0.471329  0.748994   \n",
       "3  0.535099  0.507140  0.396562  0.546993  0.647586  0.616822  0.563741   \n",
       "4  0.473637  0.533434  0.624133  0.504796  0.621079  0.702836  0.580196   \n",
       "\n",
       "      var_7     var_8     var_9  ...   var_192   var_193   var_194   var_195  \\\n",
       "0  0.594255  0.270395  0.247420  ...  0.560037  0.448173  0.510975  0.300318   \n",
       "1  0.500584  0.660911  0.573056  ...  0.513861  0.756190  0.350211  0.765154   \n",
       "2  0.414724  0.270429  0.276041  ...  0.437556  0.448000  0.671183  0.881350   \n",
       "3  0.428577  0.224846  0.595326  ...  0.357969  0.439205  0.745555  0.418549   \n",
       "4  0.622220  0.811883  0.516413  ...  0.285399  0.697737  0.238801  0.393218   \n",
       "\n",
       "    var_196   var_197   var_198   var_199  ID_code  target  \n",
       "0  0.678981  0.430958  0.327658  0.560645  train_0       0  \n",
       "1  0.686614  0.468277  0.609546  0.605827  train_1       0  \n",
       "2  0.236337  0.381950  0.425833  0.582736  train_2       0  \n",
       "3  0.346810  0.717176  0.590016  0.443232  train_3       0  \n",
       "4  0.557507  0.586526  0.591416  0.446041  train_4       0  \n",
       "\n",
       "[5 rows x 202 columns]"
      ]
     },
     "execution_count": 9,
     "metadata": {},
     "output_type": "execute_result"
    }
   ],
   "source": [
    "data = no_outliers.drop([\"ID_code\", \"target\"], axis=1)\n",
    "test_data = tst.drop([\"ID_code\"], axis=1)\n",
    "mn, mx = data.min(), data.max()\n",
    "scaled_data = MinMaxScaler(data, mn, mx)\n",
    "scaled_test_data = MinMaxScaler(test_data, mn, mx)\n",
    "scaled_data[[\"ID_code\", \"target\"]] = no_outliers[[\"ID_code\", \"target\"]]\n",
    "\n",
    "scaled_data.head()"
   ]
  },
  {
   "cell_type": "markdown",
   "id": "f739cdeb-2114-49f6-8c99-6a6d563efa61",
   "metadata": {},
   "source": [
    "## Feature Selection\n",
    "Binary Classification 문제이므로 레이블과의 상관관계를 이용하긴 어렵고, 워낙 변수가 많아 각 변수 끼리 상관관계를 보는 것은 어렵다. 따라서 변수 선택 하는 여러가지 다른 알고리즘을 이용해보자.\n",
    "\n",
    "1. Univariate Selection\n",
    "\n",
    "변수 별 점수를 계산하여 변수의 중요도를 계산하는 방법으로 보통 F-score 를 많이 사용한다. F-score는 분산에 따라 변하는 값이다.\n",
    "\n",
    "여기서는 점수가 10보다 낮은 경우를 삭제하자.\n",
    "\n",
    "2. PCA\n",
    "\n",
    "변수가 200개나 되어서 실행시간이 오래 걸리는 문제가 생긴다. PCA 로 일부를 줄일 수 있다. 설명력을 90%로 한다.\n",
    "\n",
    "3. Feature Importance\n",
    "\n",
    "몇 개의 모델은 각 변수별 중요도를 가지고 있다. 예를 들어 DT의 feature importance 를 계산 할 때엔 gini 계수를 더 잘 줄이는 변수를 중요도가 높은 변수로 여긴다.\n",
    "\n",
    "4. Permutation Importance\n",
    "\n",
    "eli5 라이브러리에서 제공하는 Permutation Importance 를 사용 할 수 있다. 이 방법의 원리는, 먼저 특정 모델을 만들어 과적합 시키고 변수를 하나씩 뺄 때마다 나타나는 성능 손실의 정도를 통해 각 변수의 중요도를 구하는 것이다.\n",
    "\n",
    "본문에서는 DT를 이용한다. 일반적으로 과적합 시키기 위해 DT 의 max_depth 를 설정하지 않지만, 데이터의 크기가 너무 크기 때문에 max_depth=10으로 설정하고 실행한다.\n",
    "\n",
    "Feature Importance 와 Permutation Importance 의 결과를 보면 서로 유사한 경향을 보였다. 따라서 두개 모두에 대해서 중요도가 낮다고 나온 변수만 삭제한다."
   ]
  },
  {
   "cell_type": "code",
   "execution_count": 10,
   "id": "9624fcd9-e98e-46ef-ab4a-b610fd7b3e5e",
   "metadata": {},
   "outputs": [
    {
     "data": {
      "image/png": "[encoded data removed]",
      "text/plain": [
       "<Figure size 1296x576 with 1 Axes>"
      ]
     },
     "metadata": {
      "needs_background": "light"
     },
     "output_type": "display_data"
    }
   ],
   "source": [
    "target = scaled_data[\"target\"]\n",
    "data = scaled_data.drop([\"ID_code\", \"target\"], axis=1)\n",
    "\n",
    "selectK = SelectKBest(k=\"all\")\n",
    "selectK.fit(data, target)\n",
    "\n",
    "plt.figure(figsize=(18,8))\n",
    "sn.barplot(x=np.arange(len(selectK.scores_)), y=selectK.scores_)\n",
    "plt.show()"
   ]
  },
  {
   "cell_type": "code",
   "execution_count": 11,
   "id": "6213cc9a-bc01-4f3c-9086-69545b9d42de",
   "metadata": {},
   "outputs": [
    {
     "data": {
      "text/plain": [
       "(173,)"
      ]
     },
     "execution_count": 11,
     "metadata": {},
     "output_type": "execute_result"
    }
   ],
   "source": [
    "above_10 = np.where(selectK.scores_ > 10)[0]\n",
    "above_10.shape"
   ]
  },
  {
   "cell_type": "code",
   "execution_count": 12,
   "id": "e61faf56-dcfd-4608-a2ec-b098d91a6bb2",
   "metadata": {},
   "outputs": [
    {
     "data": {
      "text/plain": [
       "(198444, 173)"
      ]
     },
     "execution_count": 12,
     "metadata": {},
     "output_type": "execute_result"
    }
   ],
   "source": [
    "data_reduced = data.values[:, above_10]\n",
    "test_data_reduced = test_data.values[:, above_10]\n",
    "\n",
    "data_reduced.shape"
   ]
  },
  {
   "cell_type": "code",
   "execution_count": 13,
   "id": "8b2ca2ce-86da-45f9-8949-354c8c9b7a6f",
   "metadata": {},
   "outputs": [
    {
     "data": {
      "text/plain": [
       "(198444, 150)"
      ]
     },
     "execution_count": 13,
     "metadata": {},
     "output_type": "execute_result"
    }
   ],
   "source": [
    "pca = PCA(n_components=0.90)\n",
    "pca.fit(data_reduced, target)\n",
    "data_reduced = pca.transform(data_reduced)\n",
    "test_data_reduced = pca.transform(test_data_reduced)\n",
    "\n",
    "data_reduced.shape"
   ]
  },
  {
   "cell_type": "code",
   "execution_count": 14,
   "id": "616f7b56-5686-4e10-ad7b-4d0708121e7b",
   "metadata": {},
   "outputs": [
    {
     "data": {
      "image/png": "[encoded data removed]",
      "text/plain": [
       "<Figure size 1296x576 with 1 Axes>"
      ]
     },
     "metadata": {
      "needs_background": "light"
     },
     "output_type": "display_data"
    }
   ],
   "source": [
    "dt = DecisionTreeClassifier(max_depth=10).fit(data_reduced, target)\n",
    "\n",
    "plt.figure(figsize=(18,8))\n",
    "sn.barplot(x=np.arange(len(dt.feature_importances_)), y=dt.feature_importances_)\n",
    "plt.show()"
   ]
  },
  {
   "cell_type": "code",
   "execution_count": 16,
   "id": "1b58314b-366e-49fd-b992-d683b10c8487",
   "metadata": {},
   "outputs": [
    {
     "data": {
      "image/png": "[encoded data removed]",
      "text/plain": [
       "<Figure size 1296x576 with 1 Axes>"
      ]
     },
     "metadata": {
      "needs_background": "light"
     },
     "output_type": "display_data"
    }
   ],
   "source": [
    "perm = PermutationImportance(dt, random_state=1).fit(data_reduced, target)\n",
    "\n",
    "plt.figure(figsize=(18,8))\n",
    "sn.barplot(x=np.arange(len(perm.feature_importances_)), y=perm.feature_importances_)\n",
    "plt.show()"
   ]
  },
  {
   "cell_type": "code",
   "execution_count": 19,
   "id": "9f1525c5-e4e9-4b90-98b1-45dcd3a1526c",
   "metadata": {},
   "outputs": [
    {
     "data": {
      "text/plain": [
       "(array([  6,   9,  19,  42,  48,  58,  59,  68,  74,  78,  80,  87,  92,\n",
       "         93, 101, 106, 107, 111, 113, 116, 117, 125, 128, 138, 139, 140,\n",
       "        145], dtype=int64),)"
      ]
     },
     "execution_count": 19,
     "metadata": {},
     "output_type": "execute_result"
    }
   ],
   "source": [
    "np.where((dt.feature_importances_ < 0.001) & (perm.feature_importances_ < 0.001))"
   ]
  },
  {
   "cell_type": "code",
   "execution_count": 21,
   "id": "9a5cff5b-8416-4ab2-8920-35c7cc5f1e83",
   "metadata": {},
   "outputs": [
    {
     "data": {
      "text/plain": [
       "(123,)"
      ]
     },
     "execution_count": 21,
     "metadata": {},
     "output_type": "execute_result"
    }
   ],
   "source": [
    "important_cols = np.where((dt.feature_importances_ >= 0.001) | (perm.feature_importances_ >= 0.001))[0]\n",
    "\n",
    "important_cols.shape"
   ]
  },
  {
   "cell_type": "code",
   "execution_count": 23,
   "id": "463f5de4-08c8-4e9d-b634-a89527534563",
   "metadata": {},
   "outputs": [
    {
     "data": {
      "text/plain": [
       "(198444, 123)"
      ]
     },
     "execution_count": 23,
     "metadata": {},
     "output_type": "execute_result"
    }
   ],
   "source": [
    "data_reduced = data_reduced[:, important_cols]\n",
    "test_data_reduced = test_data_reduced[:, important_cols]\n",
    "\n",
    "data_reduced.shape"
   ]
  },
  {
   "cell_type": "markdown",
   "id": "a927f1f0-ca1d-41d5-976d-14269014d33b",
   "metadata": {},
   "source": [
    "## Resampling\n",
    "\n",
    "데이터를 확인 해보면 클래스가 0인 데이터가 1인 데이터일 때 보다 훨씬 많은 것을 알 수 있다. 이런 데이터를 비대칭 데이터라 한다. 데이터가 비대칭일 경우 분류기가 다수 클래스에 대한 확률을 과대평가 할 가능성이 크기 때문에 Resampling을 통해 어느정도 대칭적으로 데이터를 만들어야 할 필요가 있다. Resampling 에는 데이터의 개수를 늘리는 Oversampling 과 줄이는 Undersampling 이 있다. 이번 데이터의 경우 크기가 매우 커 데이터를 다루는데 실행시간이 오래 걸리는 문제도 있으므로 데이터를 줄일 필요가 있다. 따라서 Undersampling 을 사용한다.\n",
    "\n",
    "Undersampling 에는 여러 알고리즘이 존재한다. 가장 단순한 방법으로는 다수 클래스 데이터 중 일부를 무작위로 골라 삭제하는 것이다. 그러나 이 방법은 속도는 빠르지만 대신 모델의 예측력에 도움을 줄 수 있는 중요한 데이터를 잃을 수 있기 때문에 CondensedNearestNeighbour 방법을 사용한다. [참고](https://datascienceschool.net/03%20machine%20learning/14.02%20%EB%B9%84%EB%8C%80%EC%B9%AD%20%EB%8D%B0%EC%9D%B4%ED%84%B0%20%EB%AC%B8%EC%A0%9C.html#tomeks-link-method)\n",
    "\n",
    "다양한 Resampling 알고리즘은 imbalanced-learn 라이브러리에 있다."
   ]
  },
  {
   "cell_type": "code",
   "execution_count": 30,
   "id": "bfbb6789-bd47-4330-83c0-83d19b2a19b0",
   "metadata": {},
   "outputs": [
    {
     "data": {
      "image/png": "[encoded data removed]",
      "text/plain": [
       "<Figure size 432x288 with 1 Axes>"
      ]
     },
     "metadata": {
      "needs_background": "light"
     },
     "output_type": "display_data"
    }
   ],
   "source": [
    "sn.barplot(x=[0, 1], y=[(target == 0).sum(), (target == 1).sum()])\n",
    "plt.show()"
   ]
  },
  {
   "cell_type": "code",
   "execution_count": 1,
   "id": "e3567043-1335-4c89-979f-3524b181799d",
   "metadata": {},
   "outputs": [
    {
     "ename": "NameError",
     "evalue": "name 'TomekLinks' is not defined",
     "output_type": "error",
     "traceback": [
      "\u001b[1;31m---------------------------------------------------------------------------\u001b[0m",
      "\u001b[1;31mNameError\u001b[0m                                 Traceback (most recent call last)",
      "\u001b[1;32m<ipython-input-1-ccee90879266>\u001b[0m in \u001b[0;36m<module>\u001b[1;34m\u001b[0m\n\u001b[1;32m----> 1\u001b[1;33m \u001b[0mdata_resampled\u001b[0m\u001b[1;33m,\u001b[0m \u001b[0mtarget_resampled\u001b[0m \u001b[1;33m=\u001b[0m \u001b[0mTomekLinks\u001b[0m\u001b[1;33m(\u001b[0m\u001b[0mn_jobs\u001b[0m\u001b[1;33m=\u001b[0m\u001b[1;36m4\u001b[0m\u001b[1;33m)\u001b[0m\u001b[1;33m.\u001b[0m\u001b[0mfit_resample\u001b[0m\u001b[1;33m(\u001b[0m\u001b[0mdata_reduced\u001b[0m\u001b[1;33m,\u001b[0m \u001b[0mtarget\u001b[0m\u001b[1;33m)\u001b[0m\u001b[1;33m\u001b[0m\u001b[1;33m\u001b[0m\u001b[0m\n\u001b[0m\u001b[0;32m      2\u001b[0m \u001b[1;33m\u001b[0m\u001b[0m\n\u001b[0;32m      3\u001b[0m \u001b[0msn\u001b[0m\u001b[1;33m.\u001b[0m\u001b[0mbarplot\u001b[0m\u001b[1;33m(\u001b[0m\u001b[0mx\u001b[0m\u001b[1;33m=\u001b[0m\u001b[1;33m[\u001b[0m\u001b[1;36m0\u001b[0m\u001b[1;33m,\u001b[0m \u001b[1;36m1\u001b[0m\u001b[1;33m]\u001b[0m\u001b[1;33m,\u001b[0m \u001b[0my\u001b[0m\u001b[1;33m=\u001b[0m\u001b[1;33m[\u001b[0m\u001b[1;33m(\u001b[0m\u001b[0mtarget_resampled\u001b[0m \u001b[1;33m==\u001b[0m \u001b[1;36m0\u001b[0m\u001b[1;33m)\u001b[0m\u001b[1;33m.\u001b[0m\u001b[0msum\u001b[0m\u001b[1;33m(\u001b[0m\u001b[1;33m)\u001b[0m\u001b[1;33m,\u001b[0m \u001b[1;33m(\u001b[0m\u001b[0mtarget_resampled\u001b[0m \u001b[1;33m==\u001b[0m \u001b[1;36m1\u001b[0m\u001b[1;33m)\u001b[0m\u001b[1;33m.\u001b[0m\u001b[0msum\u001b[0m\u001b[1;33m(\u001b[0m\u001b[1;33m)\u001b[0m\u001b[1;33m]\u001b[0m\u001b[1;33m)\u001b[0m\u001b[1;33m\u001b[0m\u001b[1;33m\u001b[0m\u001b[0m\n\u001b[0;32m      4\u001b[0m \u001b[0mplt\u001b[0m\u001b[1;33m.\u001b[0m\u001b[0mshow\u001b[0m\u001b[1;33m(\u001b[0m\u001b[1;33m)\u001b[0m\u001b[1;33m\u001b[0m\u001b[1;33m\u001b[0m\u001b[0m\n",
      "\u001b[1;31mNameError\u001b[0m: name 'TomekLinks' is not defined"
     ]
    }
   ],
   "source": [
    "data_resampled, target_resampled = TomekLinks(n_jobs=4).fit_resample(data_reduced, target)\n",
    "\n",
    "sn.barplot(x=[0, 1], y=[(target_resampled == 0).sum(), (target_resampled == 1).sum()])\n",
    "plt.show()"
   ]
  },
  {
   "cell_type": "code",
   "execution_count": null,
   "id": "13de2446-b17f-4315-b72b-b8badff1ed29",
   "metadata": {},
   "outputs": [],
   "source": [
    "np.save(\"data_resampled.npy\", data_resampled)\n",
    "np.save(\"target_resampled.npy\", target_resampled)"
   ]
  },
  {
   "cell_type": "code",
   "execution_count": null,
   "id": "c98449ba-2449-492a-ae58-e352fa8aee5b",
   "metadata": {},
   "outputs": [],
   "source": []
  }
 ],
 "metadata": {
  "kernelspec": {
   "display_name": "Python 3",
   "language": "python",
   "name": "python3"
  },
  "language_info": {
   "codemirror_mode": {
    "name": "ipython",
    "version": 3
   },
   "file_extension": ".py",
   "mimetype": "text/x-python",
   "name": "python",
   "nbconvert_exporter": "python",
   "pygments_lexer": "ipython3",
   "version": "3.8.8"
  }
 },
 "nbformat": 4,
 "nbformat_minor": 5
}
